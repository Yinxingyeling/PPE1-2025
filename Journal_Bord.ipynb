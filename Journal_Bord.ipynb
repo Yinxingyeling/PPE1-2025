{
 "cells": [
  {
   "cell_type": "markdown",
   "id": "551baa59",
   "metadata": {},
   "source": [
    "# Journal de Bord\n",
    "\n",
    "> PPE1 Sorbonne Nouvelle"
   ]
  },
  {
   "cell_type": "markdown",
   "id": "44cd1d86",
   "metadata": {},
   "source": [
    "## Cours 1 : Système de fichier"
   ]
  },
  {
   "cell_type": "markdown",
   "id": "5e661f3e",
   "metadata": {},
   "source": [
    "### Les notions à connaître\n",
    "\n",
    "$\\rightarrow$ L'arborescence\n",
    "\n",
    "| Notions | Acquis ou non |\n",
    "| ----- | ------- |\n",
    "| Fichier | Acquis |\n",
    "| Dossier | Acquis |\n",
    "| Arborescence | Acquis |\n",
    "\n",
    "$\\rightarrow$ Les chemins\n",
    "\n",
    "| Notions | Acquis ou non |\n",
    "| ----- | ------- |\n",
    "| / | Acquis |\n",
    "| ~/ | Acquis |\n",
    "| ./ | Acquis |\n",
    "| ../ | Acquis |\n",
    "| Chemin absolu | Acquis |\n",
    "| Chemin relatif | Acquis |\n",
    "\n",
    "$\\rightarrow$ Caractères de remplacement\n",
    "\n",
    "| Notions | Acquis ou non |\n",
    "| ----- | ------- |\n",
    "| ? | Acquis |\n",
    "| * | Acquis |\n"
   ]
  },
  {
   "cell_type": "markdown",
   "id": "458df9de",
   "metadata": {},
   "source": []
  }
 ],
 "metadata": {
  "language_info": {
   "name": "python"
  }
 },
 "nbformat": 4,
 "nbformat_minor": 5
}
